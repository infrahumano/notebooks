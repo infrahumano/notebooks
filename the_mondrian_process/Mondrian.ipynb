{
 "cells": [
  {
   "cell_type": "code",
   "execution_count": 93,
   "metadata": {
    "collapsed": true
   },
   "outputs": [],
   "source": [
    "import numpy as np\n",
    "import pandas as pd\n",
    "\n",
    "%matplotlib inline"
   ]
  },
  {
   "cell_type": "code",
   "execution_count": 6,
   "metadata": {},
   "outputs": [],
   "source": [
    "data = pd.DataFrame(\n",
    "    {'x': np.random.normal(loc=0, scale=1, size=10),\n",
    "     'y': np.random.normal(loc=0, scale=3, size=10),\n",
    "     'z': np.random.normal(loc=10, scale=0.5, size=10)}\n",
    ")"
   ]
  },
  {
   "cell_type": "code",
   "execution_count": 117,
   "metadata": {},
   "outputs": [
    {
     "name": "stdout",
     "output_type": "stream",
     "text": [
      "0.140203263565\n"
     ]
    }
   ],
   "source": [
    "rate=10\n",
    "print(np.random.exponential(scale=1/rate, size=1)[0])"
   ]
  },
  {
   "cell_type": "code",
   "execution_count": 127,
   "metadata": {},
   "outputs": [],
   "source": [
    "def calculate_box(data): \n",
    "    return data.agg([min, max]).values.transpose()\n",
    "\n",
    "def dimensions(box):\n",
    "    return np.diff(box, axis=1).flatten()\n",
    "\n",
    "def linear_dimension(box):\n",
    "    return dimensions(box).sum()\n",
    "\n",
    "def select_axis(dimensions, size=None):\n",
    "    if size is None:\n",
    "        size = len(dimensions)\n",
    "    return np.random.choice(range(size), p=dimensions/np.sum(dimensions))\n",
    "\n",
    "def select_cut_point(interval):\n",
    "    return np.random.uniform(low=interval[0], high=interval[1], size=1)[0]\n",
    "\n",
    "def time_to_next_cut(box):\n",
    "    return np.random.exponential(scale=1.0/linear_dimension(box), size=1)[0]\n",
    "\n",
    "def split_box(box, axis, point):\n",
    "    left = box.copy()\n",
    "    right = box.copy()\n",
    "    low, high = box[axis]\n",
    "    \n",
    "    if point <= low or point >= high:\n",
    "        raise ValueError('Point is not in interval.')\n",
    "        \n",
    "    left[axis] = [low, point]\n",
    "    right[axis] = [point, high]\n",
    "    return left, right"
   ]
  },
  {
   "cell_type": "code",
   "execution_count": 134,
   "metadata": {
    "collapsed": true
   },
   "outputs": [],
   "source": [
    "def mondrian_cut(time, box, time_bound):\n",
    "    next_cut_time = time + time_to_next_cut(box)\n",
    "    \n",
    "    if next_cut_time >= time_bound:\n",
    "        return (time, next_cut_time, box, None, None, None, None)\n",
    "    \n",
    "    cut_axis = select_axis(dimensions(box))\n",
    "    cut_point = select_cut_point(box[cut_axis])\n",
    "    left_box, right_box = split_box(box, cut_axis, cut_point)\n",
    "    \n",
    "    return (time, next_cut_time, box, cut_axis, cut_point, \n",
    "            mondrian_cut(next_cut_time, left_box, time_bound), \n",
    "            mondrian_cut(next_cut_time, right_box, time_bound))"
   ]
  },
  {
   "cell_type": "code",
   "execution_count": 251,
   "metadata": {},
   "outputs": [],
   "source": [
    "import numpy as np\n",
    "import pylab as pl\n",
    "from matplotlib import collections  as mc\n",
    "\n",
    "def segments_2d(box):\n",
    "    low_x, high_x = box[0]\n",
    "    low_y, high_y = box[1]\n",
    "    return [[(low_x, low_y), (high_x, low_y)], \n",
    "            [(high_x, low_y), (high_x, high_y)], \n",
    "            [(high_x, high_y), (low_x, high_y)],\n",
    "            [(low_x, high_y), (low_x, low_y)]]\n",
    "\n",
    "def segments(m, segs):\n",
    "    segs.extend(segments_2d(m[2]))\n",
    "    if m[5] is not None and m[6] is not None:\n",
    "        segments(m[5], segs)\n",
    "        segments(m[6], segs)\n",
    "\n",
    "def plot_mondrian(m):\n",
    "    segs = []\n",
    "    segments(m, segs)\n",
    "    lines = segs\n",
    "    lc = mc.LineCollection(lines, colors='orangered', linewidths=1)\n",
    "    fig, ax = pl.subplots()\n",
    "    ax.add_collection(lc)\n",
    "    ax.autoscale()\n",
    "    ax.margins(0.05)"
   ]
  },
  {
   "cell_type": "code",
   "execution_count": 252,
   "metadata": {
    "collapsed": true
   },
   "outputs": [],
   "source": [
    "box = np.array([[0.0, 1.0], [0.0, 1.0]]) "
   ]
  },
  {
   "cell_type": "code",
   "execution_count": 253,
   "metadata": {},
   "outputs": [
    {
     "data": {
      "image/png": "[encoded data removed]",
      "text/plain": [
       "<matplotlib.figure.Figure at 0x7f3dbdaef1d0>"
      ]
     },
     "metadata": {},
     "output_type": "display_data"
    }
   ],
   "source": [
    "plot_mondrian(mondrian_cut(0, box, 1))"
   ]
  },
  {
   "cell_type": "code",
   "execution_count": 254,
   "metadata": {},
   "outputs": [
    {
     "data": {
      "image/png": "[encoded data removed]",
      "text/plain": [
       "<matplotlib.figure.Figure at 0x7f3dbde09400>"
      ]
     },
     "metadata": {},
     "output_type": "display_data"
    }
   ],
   "source": [
    "plot_mondrian(mondrian_cut(0, box, 2))"
   ]
  },
  {
   "cell_type": "code",
   "execution_count": 255,
   "metadata": {},
   "outputs": [
    {
     "data": {
      "image/png": "[encoded data removed]",
      "text/plain": [
       "<matplotlib.figure.Figure at 0x7f3dbdc5e668>"
      ]
     },
     "metadata": {},
     "output_type": "display_data"
    }
   ],
   "source": [
    "plot_mondrian(mondrian_cut(0, box, 3))"
   ]
  },
  {
   "cell_type": "code",
   "execution_count": 256,
   "metadata": {},
   "outputs": [
    {
     "data": {
      "image/png": "[encoded data removed]",
      "text/plain": [
       "<matplotlib.figure.Figure at 0x7f3dbddf8b70>"
      ]
     },
     "metadata": {},
     "output_type": "display_data"
    }
   ],
   "source": [
    "plot_mondrian(mondrian_cut(0, box, 4))"
   ]
  },
  {
   "cell_type": "code",
   "execution_count": 257,
   "metadata": {},
   "outputs": [
    {
     "data": {
      "image/png": "[encoded data removed]",
      "text/plain": [
       "<matplotlib.figure.Figure at 0x7f3dbde286d8>"
      ]
     },
     "metadata": {},
     "output_type": "display_data"
    }
   ],
   "source": [
    "plot_mondrian(mondrian_cut(0, box, 20))"
   ]
  },
  {
   "cell_type": "code",
   "execution_count": 258,
   "metadata": {},
   "outputs": [
    {
     "data": {
      "image/png": "[encoded data removed]",
      "text/plain": [
       "<matplotlib.figure.Figure at 0x7f3dbd95b208>"
      ]
     },
     "metadata": {},
     "output_type": "display_data"
    }
   ],
   "source": [
    "plot_mondrian(mondrian_cut(0, box, 50))"
   ]
  }
 ],
 "metadata": {
  "kernelspec": {
   "display_name": "Python 3",
   "language": "python",
   "name": "python3"
  },
  "language_info": {
   "codemirror_mode": {
    "name": "ipython",
    "version": 3
   },
   "file_extension": ".py",
   "mimetype": "text/x-python",
   "name": "python",
   "nbconvert_exporter": "python",
   "pygments_lexer": "ipython3",
   "version": "3.6.4"
  }
 },
 "nbformat": 4,
 "nbformat_minor": 2
}
